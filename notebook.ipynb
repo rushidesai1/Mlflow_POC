{
 "metadata": {
  "language_info": {
   "codemirror_mode": {
    "name": "ipython",
    "version": 3
   },
   "file_extension": ".py",
   "mimetype": "text/x-python",
   "name": "python",
   "nbconvert_exporter": "python",
   "pygments_lexer": "ipython3",
   "version": "3.9.1-final"
  },
  "orig_nbformat": 2,
  "kernelspec": {
   "name": "python3",
   "display_name": "Python 3",
   "language": "python"
  }
 },
 "nbformat": 4,
 "nbformat_minor": 2,
 "cells": [
  {
   "cell_type": "code",
   "execution_count": 17,
   "metadata": {},
   "outputs": [],
   "source": [
    "# import pandas as pd\n",
    "# from pathlib import Path"
   ]
  },
  {
   "cell_type": "code",
   "execution_count": 18,
   "metadata": {},
   "outputs": [],
   "source": [
    "# data_directory = Path(\"../data\")\n",
    "# data_filename = data_directory / \"20_11_17_offpolicy_replication_report.xlsx\""
   ]
  },
  {
   "cell_type": "code",
   "execution_count": 19,
   "metadata": {},
   "outputs": [],
   "source": [
    "# df = pd.read_excel(data_filename, sheet_name=1)"
   ]
  },
  {
   "cell_type": "code",
   "execution_count": 20,
   "metadata": {},
   "outputs": [],
   "source": [
    "from mlflow.tracking import MlflowClient\n",
    "\n",
    "# Create an experiment with a name that is unique and case sensitive.\n",
    "client = MlflowClient()\n",
    "experiment = client.list_experiments()[1]"
   ]
  },
  {
   "cell_type": "code",
   "execution_count": 21,
   "metadata": {},
   "outputs": [
    {
     "output_type": "stream",
     "name": "stdout",
     "text": [
      "<Experiment: artifact_location='file:///storage/home/ec2-user/workspaces/idhack/src/AlexaDRScience/src/mlruns/1', experiment_id='1', lifecycle_stage='active', name='test_exp', tags={}>\n"
     ]
    }
   ],
   "source": [
    "experiment = client.get_experiment(\"1\")\n",
    "print(experiment)"
   ]
  },
  {
   "cell_type": "code",
   "execution_count": 22,
   "metadata": {},
   "outputs": [
    {
     "output_type": "stream",
     "name": "stdout",
     "text": [
      "run_id: 1106e89e87014f1190854b93e0f6cc82\nparams: {'data_s3_uri': 's3://data_location3', 'run_config': \"{'start_stages': ['main'], 'end_stages': ['offpolicy_train'], 'staging_dir': 'rnas3://hoverboard-shared-rnascience-data-na/sarahuja/idhack/ems_test/test_exp/1106e89e87014f1190854b93e0f6cc82/', 'stages_config': 'ems/idhack_test.json', 'args': {'main': {'offpolicy_train_data': 's3://data_location3', 'word_embeddings': 's3://bluetrain-workspaces/sidmsk/i18n/glove.6B.100d.txt'}, 'offpolicy_train': {'fork': True, 'num_gpu_nodes': 32, 'params': {'--batch-size': 1024, '--max-interpretations': 20, '--final-hidden-size': 512, '--num-epochs': 2, '--lr': 0.0001, '--dim-context': 512}}}}\", 'run_config_path': 'alexa_dr_science/graphx/configs/run_configs/ems/idhack_test.json'}\nparams.run_config: {'start_stages': ['main'], 'end_stages': ['offpolicy_train'], 'staging_dir': 'rnas3://hoverboard-shared-rnascience-data-na/sarahuja/idhack/ems_test/test_exp/1106e89e87014f1190854b93e0f6cc82/', 'stages_config': 'ems/idhack_test.json', 'args': {'main': {'offpolicy_train_data': 's3://data_location3', 'word_embeddings': 's3://bluetrain-workspaces/sidmsk/i18n/glove.6B.100d.txt'}, 'offpolicy_train': {'fork': True, 'num_gpu_nodes': 32, 'params': {'--batch-size': 1024, '--max-interpretations': 20, '--final-hidden-size': 512, '--num-epochs': 2, '--lr': 0.0001, '--dim-context': 512}}}}\nstatus: FINISHED\n"
     ]
    }
   ],
   "source": [
    "runs = client.list_run_infos(\"1\")\n",
    "# loop runs\n",
    "run = runs[0]\n",
    "#run = client.get_run(run.info.run_id)\n",
    "run = client.get_run(\"1106e89e87014f1190854b93e0f6cc82\")\n",
    "\n",
    "print(\"run_id: {}\".format(run.info.run_id))\n",
    "print(\"params: {}\".format(run.data.params))\n",
    "print(\"params.run_config: {}\".format(run.data.params[\"run_config\"]))\n",
    "print(\"status: {}\".format(run.info.status))"
   ]
  },
  {
   "cell_type": "code",
   "execution_count": 23,
   "metadata": {},
   "outputs": [],
   "source": [
    "sras = [97.09638504, 99.48470587, 98.92346249]\n",
    "\n",
    "for i, run in enumerate(runs):\n",
    "    client.log_metric(run.run_id, \"HomeAutomation.TurnOffApplianceIntent.sra\", sras[i])\n"
   ]
  },
  {
   "cell_type": "code",
   "execution_count": 24,
   "metadata": {},
   "outputs": [
    {
     "output_type": "stream",
     "name": "stdout",
     "text": [
      "HomeAutomation:TurnOffApplianceIntent\nHomeAutomation:TurnOnApplianceIntent\nKnowledge:QAIntent\nNotifications:SetNotificationIntent\nGlobal:WhatTimeIntent\n"
     ]
    }
   ],
   "source": [
    "from mock_metrics import get_mock_data\n",
    "\n",
    "data = get_mock_data()\n",
    "\n",
    "for (domain, intent, metrics) in data[:5]:\n",
    "    # print(f\"{domain}:{intent}\")\n",
    "    for i, run in enumerate(runs):\n",
    "        client.log_metric(run.run_id, f\"{domain}.{intent}.SRA\", metrics[0][i])\n",
    "        client.log_metric(run.run_id, f\"{domain}.{intent}.ND_SRA\", metrics[1][i])\n"
   ]
  },
  {
   "cell_type": "code",
   "execution_count": null,
   "metadata": {},
   "outputs": [],
   "source": []
  }
 ]
}